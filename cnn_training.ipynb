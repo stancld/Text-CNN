{
  "nbformat": 4,
  "nbformat_minor": 0,
  "metadata": {
    "colab": {
      "name": "cnn_clf.ipynb",
      "provenance": [],
      "collapsed_sections": [],
      "machine_shape": "hm"
    },
    "kernelspec": {
      "name": "python3",
      "display_name": "Python 3"
    },
    "accelerator": "TPU"
  },
  "cells": [
    {
      "cell_type": "markdown",
      "metadata": {
        "id": "aI02pFx9zsOj",
        "colab_type": "text"
      },
      "source": [
        "# CNN Classifier - Training\n",
        "\n",
        "<hr>\n",
        "\n",
        "This notebook contains a script for training a CNN classifier implemented in cnn_clf.py\n",
        "\n",
        "Classifier is implemented in PyTorch and utilizes the structure of PyTorch Lighting which also enables to train our model on TPUs."
      ]
    },
    {
      "cell_type": "markdown",
      "metadata": {
        "id": "x7PIuq1dSbLp",
        "colab_type": "text"
      },
      "source": [
        "## **Setup**\n",
        "\n",
        "- install modules necessary for TPU computation\n",
        "- install torch==1.5.0 and pytorch-lightnint\n",
        "- import libraries and mount Google Drive"
      ]
    },
    {
      "cell_type": "code",
      "metadata": {
        "id": "EW_OdQsYGM5X",
        "colab_type": "code",
        "outputId": "f502c22e-3328-42a3-c1ec-e6699325c22c",
        "colab": {
          "base_uri": "https://localhost:8080/",
          "height": 732
        }
      },
      "source": [
        "!curl https://raw.githubusercontent.com/pytorch/xla/master/contrib/scripts/env-setup.py -o pytorch-xla-env-setup.py\n",
        "!python pytorch-xla-env-setup.py --version nightly --apt-packages libomp5 libopenblas-dev"
      ],
      "execution_count": 1,
      "outputs": [
        {
          "output_type": "stream",
          "text": [
            "  % Total    % Received % Xferd  Average Speed   Time    Time     Time  Current\n",
            "                                 Dload  Upload   Total   Spent    Left  Speed\n",
            "\r  0     0    0     0    0     0      0      0 --:--:-- --:--:-- --:--:--     0\r100  4264  100  4264    0     0  23048      0 --:--:-- --:--:-- --:--:-- 23048\n",
            "Updating TPU and VM. This may take around 2 minutes.\n",
            "Updating TPU runtime to pytorch-nightly ...\n",
            "Uninstalling torch-1.5.0:\n",
            "  Successfully uninstalled torch-1.5.0\n",
            "Uninstalling torchvision-0.7.0a0+34810c0:\n",
            "  Successfully uninstalled torchvision-0.7.0a0+34810c0\n",
            "Copying gs://tpu-pytorch/wheels/torch-nightly-cp36-cp36m-linux_x86_64.whl...\n",
            "\\ [1 files][ 91.9 MiB/ 91.9 MiB]                                                \n",
            "Operation completed over 1 objects/91.9 MiB.                                     \n",
            "Copying gs://tpu-pytorch/wheels/torch_xla-nightly-cp36-cp36m-linux_x86_64.whl...\n",
            "\\ [1 files][122.2 MiB/122.2 MiB]                                                \n",
            "Operation completed over 1 objects/122.2 MiB.                                    \n",
            "Copying gs://tpu-pytorch/wheels/torchvision-nightly-cp36-cp36m-linux_x86_64.whl...\n",
            "/ [1 files][  2.4 MiB/  2.4 MiB]                                                \n",
            "Operation completed over 1 objects/2.4 MiB.                                      \n",
            "Processing ./torch-nightly-cp36-cp36m-linux_x86_64.whl\n",
            "Requirement already satisfied: numpy in /usr/local/lib/python3.6/dist-packages (from torch==nightly) (1.18.4)\n",
            "Requirement already satisfied: future in /usr/local/lib/python3.6/dist-packages (from torch==nightly) (0.18.2)\n",
            "Done updating TPU runtime: <Response [200]>\n",
            "\u001b[31mERROR: fastai 1.0.61 requires torchvision, which is not installed.\u001b[0m\n",
            "Installing collected packages: torch\n",
            "Successfully installed torch-1.6.0a0+68f23d5\n",
            "Processing ./torch_xla-nightly-cp36-cp36m-linux_x86_64.whl\n",
            "Installing collected packages: torch-xla\n",
            "  Found existing installation: torch-xla 1.6+dea59e7\n",
            "    Uninstalling torch-xla-1.6+dea59e7:\n",
            "      Successfully uninstalled torch-xla-1.6+dea59e7\n",
            "Successfully installed torch-xla-1.6+dea59e7\n",
            "Processing ./torchvision-nightly-cp36-cp36m-linux_x86_64.whl\n",
            "Requirement already satisfied: pillow>=4.1.1 in /usr/local/lib/python3.6/dist-packages (from torchvision==nightly) (7.0.0)\n",
            "Requirement already satisfied: torch in /usr/local/lib/python3.6/dist-packages (from torchvision==nightly) (1.6.0a0+68f23d5)\n",
            "Requirement already satisfied: numpy in /usr/local/lib/python3.6/dist-packages (from torchvision==nightly) (1.18.4)\n",
            "Requirement already satisfied: future in /usr/local/lib/python3.6/dist-packages (from torch->torchvision==nightly) (0.18.2)\n",
            "Installing collected packages: torchvision\n",
            "Successfully installed torchvision-0.7.0a0+34810c0\n",
            "Reading package lists... Done\n",
            "Building dependency tree       \n",
            "Reading state information... Done\n",
            "libomp5 is already the newest version (5.0.1-1).\n",
            "libopenblas-dev is already the newest version (0.2.20+ds-4).\n",
            "0 upgraded, 0 newly installed, 0 to remove and 32 not upgraded.\n"
          ],
          "name": "stdout"
        }
      ]
    },
    {
      "cell_type": "code",
      "metadata": {
        "id": "2-5mnAGA4Iov",
        "colab_type": "code",
        "outputId": "8af9c289-f74c-4420-983a-6c880e73e5b0",
        "colab": {
          "base_uri": "https://localhost:8080/",
          "height": 700
        }
      },
      "source": [
        "# insall pytorch, pytorch-ligthning\n",
        "!pip install torch==1.5.0\n",
        "!pip install pytorch-lightning\n",
        "\n",
        "# import basic data science lib\n",
        "import time\n",
        "import numpy as np\n",
        "import pandas as pd\n",
        "import matplotlib.pyplot as plt\n",
        "from sklearn.metrics import f1_score\n",
        "\n",
        "# mport torch-related modules\n",
        "import torch\n",
        "import torch.nn as nn\n",
        "import torch.nn.functional as F\n",
        "import torch.optim as optim\n",
        "import pytorch_lightning as pl\n",
        "from pytorch_lightning import LightningModule, Trainer\n",
        "from torch.utils.data import DataLoader, TensorDataset\n",
        "\n",
        "# mount a google drive\n",
        "from google.colab import drive\n",
        "drive.mount(\"/content/drive\", force_remount=True)\n",
        "%cd 'drive/My Drive'\n",
        "\n",
        "time.sleep(5)\n",
        "from cnn_clf import * # the best practive would be store a script with the CNN class on github and clone the repo"
      ],
      "execution_count": 2,
      "outputs": [
        {
          "output_type": "stream",
          "text": [
            "Collecting torch==1.5.0\n",
            "  Using cached https://files.pythonhosted.org/packages/13/70/54e9fb010fe1547bc4774716f11ececb81ae5b306c05f090f4461ee13205/torch-1.5.0-cp36-cp36m-manylinux1_x86_64.whl\n",
            "Requirement already satisfied: future in /usr/local/lib/python3.6/dist-packages (from torch==1.5.0) (0.18.2)\n",
            "Requirement already satisfied: numpy in /usr/local/lib/python3.6/dist-packages (from torch==1.5.0) (1.18.4)\n",
            "Installing collected packages: torch\n",
            "  Found existing installation: torch 1.6.0a0+68f23d5\n",
            "    Uninstalling torch-1.6.0a0+68f23d5:\n",
            "      Successfully uninstalled torch-1.6.0a0+68f23d5\n",
            "Successfully installed torch-1.5.0\n",
            "Requirement already satisfied: pytorch-lightning in /usr/local/lib/python3.6/dist-packages (0.7.6)\n",
            "Requirement already satisfied: future>=0.17.1 in /usr/local/lib/python3.6/dist-packages (from pytorch-lightning) (0.18.2)\n",
            "Requirement already satisfied: tqdm>=4.41.0 in /usr/local/lib/python3.6/dist-packages (from pytorch-lightning) (4.41.1)\n",
            "Requirement already satisfied: pyyaml>=3.13 in /usr/local/lib/python3.6/dist-packages (from pytorch-lightning) (3.13)\n",
            "Requirement already satisfied: tensorboard>=1.14 in /usr/local/lib/python3.6/dist-packages (from pytorch-lightning) (2.2.1)\n",
            "Requirement already satisfied: numpy>=1.16.4 in /usr/local/lib/python3.6/dist-packages (from pytorch-lightning) (1.18.4)\n",
            "Requirement already satisfied: torch>=1.1 in /usr/local/lib/python3.6/dist-packages (from pytorch-lightning) (1.5.0)\n",
            "Requirement already satisfied: requests<3,>=2.21.0 in /usr/local/lib/python3.6/dist-packages (from tensorboard>=1.14->pytorch-lightning) (2.23.0)\n",
            "Requirement already satisfied: google-auth-oauthlib<0.5,>=0.4.1 in /usr/local/lib/python3.6/dist-packages (from tensorboard>=1.14->pytorch-lightning) (0.4.1)\n",
            "Requirement already satisfied: markdown>=2.6.8 in /usr/local/lib/python3.6/dist-packages (from tensorboard>=1.14->pytorch-lightning) (3.2.2)\n",
            "Requirement already satisfied: werkzeug>=0.11.15 in /usr/local/lib/python3.6/dist-packages (from tensorboard>=1.14->pytorch-lightning) (1.0.1)\n",
            "Requirement already satisfied: six>=1.10.0 in /usr/local/lib/python3.6/dist-packages (from tensorboard>=1.14->pytorch-lightning) (1.12.0)\n",
            "Requirement already satisfied: tensorboard-plugin-wit>=1.6.0 in /usr/local/lib/python3.6/dist-packages (from tensorboard>=1.14->pytorch-lightning) (1.6.0.post3)\n",
            "Requirement already satisfied: grpcio>=1.24.3 in /usr/local/lib/python3.6/dist-packages (from tensorboard>=1.14->pytorch-lightning) (1.29.0)\n",
            "Requirement already satisfied: setuptools>=41.0.0 in /usr/local/lib/python3.6/dist-packages (from tensorboard>=1.14->pytorch-lightning) (47.1.1)\n",
            "Requirement already satisfied: google-auth<2,>=1.6.3 in /usr/local/lib/python3.6/dist-packages (from tensorboard>=1.14->pytorch-lightning) (1.7.2)\n",
            "Requirement already satisfied: absl-py>=0.4 in /usr/local/lib/python3.6/dist-packages (from tensorboard>=1.14->pytorch-lightning) (0.9.0)\n",
            "Requirement already satisfied: protobuf>=3.6.0 in /usr/local/lib/python3.6/dist-packages (from tensorboard>=1.14->pytorch-lightning) (3.10.0)\n",
            "Requirement already satisfied: wheel>=0.26; python_version >= \"3\" in /usr/local/lib/python3.6/dist-packages (from tensorboard>=1.14->pytorch-lightning) (0.34.2)\n",
            "Requirement already satisfied: idna<3,>=2.5 in /usr/local/lib/python3.6/dist-packages (from requests<3,>=2.21.0->tensorboard>=1.14->pytorch-lightning) (2.9)\n",
            "Requirement already satisfied: urllib3!=1.25.0,!=1.25.1,<1.26,>=1.21.1 in /usr/local/lib/python3.6/dist-packages (from requests<3,>=2.21.0->tensorboard>=1.14->pytorch-lightning) (1.24.3)\n",
            "Requirement already satisfied: certifi>=2017.4.17 in /usr/local/lib/python3.6/dist-packages (from requests<3,>=2.21.0->tensorboard>=1.14->pytorch-lightning) (2020.4.5.1)\n",
            "Requirement already satisfied: chardet<4,>=3.0.2 in /usr/local/lib/python3.6/dist-packages (from requests<3,>=2.21.0->tensorboard>=1.14->pytorch-lightning) (3.0.4)\n",
            "Requirement already satisfied: requests-oauthlib>=0.7.0 in /usr/local/lib/python3.6/dist-packages (from google-auth-oauthlib<0.5,>=0.4.1->tensorboard>=1.14->pytorch-lightning) (1.3.0)\n",
            "Requirement already satisfied: importlib-metadata; python_version < \"3.8\" in /usr/local/lib/python3.6/dist-packages (from markdown>=2.6.8->tensorboard>=1.14->pytorch-lightning) (1.6.0)\n",
            "Requirement already satisfied: cachetools<3.2,>=2.0.0 in /usr/local/lib/python3.6/dist-packages (from google-auth<2,>=1.6.3->tensorboard>=1.14->pytorch-lightning) (3.1.1)\n",
            "Requirement already satisfied: rsa<4.1,>=3.1.4 in /usr/local/lib/python3.6/dist-packages (from google-auth<2,>=1.6.3->tensorboard>=1.14->pytorch-lightning) (4.0)\n",
            "Requirement already satisfied: pyasn1-modules>=0.2.1 in /usr/local/lib/python3.6/dist-packages (from google-auth<2,>=1.6.3->tensorboard>=1.14->pytorch-lightning) (0.2.8)\n",
            "Requirement already satisfied: oauthlib>=3.0.0 in /usr/local/lib/python3.6/dist-packages (from requests-oauthlib>=0.7.0->google-auth-oauthlib<0.5,>=0.4.1->tensorboard>=1.14->pytorch-lightning) (3.1.0)\n",
            "Requirement already satisfied: zipp>=0.5 in /usr/local/lib/python3.6/dist-packages (from importlib-metadata; python_version < \"3.8\"->markdown>=2.6.8->tensorboard>=1.14->pytorch-lightning) (3.1.0)\n",
            "Requirement already satisfied: pyasn1>=0.1.3 in /usr/local/lib/python3.6/dist-packages (from rsa<4.1,>=3.1.4->google-auth<2,>=1.6.3->tensorboard>=1.14->pytorch-lightning) (0.4.8)\n",
            "Mounted at /content/drive\n",
            "/content/drive/My Drive\n"
          ],
          "name": "stdout"
        }
      ]
    },
    {
      "cell_type": "markdown",
      "metadata": {
        "id": "d5Tn_h82Sp3X",
        "colab_type": "text"
      },
      "source": [
        "## **Load the data**"
      ]
    },
    {
      "cell_type": "code",
      "metadata": {
        "id": "nEq9jLLd_uE8",
        "colab_type": "code",
        "colab": {}
      },
      "source": [
        "label = 'label_top5'"
      ],
      "execution_count": 0,
      "outputs": []
    },
    {
      "cell_type": "code",
      "metadata": {
        "id": "pNtrEv2USjrn",
        "colab_type": "code",
        "colab": {}
      },
      "source": [
        "# helper loading function\n",
        "def X_loader(dataset):\n",
        "  return torch.Tensor(\n",
        "      np.load(f'SeznamResearch/splitted_data/cnn/{dataset}.npy')\n",
        "  )\n",
        "def y_loader(dataset):\n",
        "  return torch.Tensor(\n",
        "      pd.read_csv(f'SeznamResearch/splitted_data/bert/{dataset}.csv')[label]\n",
        "  )\n",
        "\n",
        "# load feature matrices\n",
        "X_train = X_loader('train')\n",
        "X_dev = X_loader('dev')\n",
        "X_test = X_loader('test')\n",
        "\n",
        "# load labels\n",
        "y_train = y_loader('train')\n",
        "y_dev = y_loader('dev')\n",
        "y_test = y_loader('test')\n",
        "\n",
        "# complete tuple (X, y)\n",
        "datasets = {\n",
        "    'train': TensorDataset(X_train, y_train),\n",
        "    'val': TensorDataset(X_dev, y_dev),\n",
        "    'test': TensorDataset(X_test, y_test)\n",
        "}"
      ],
      "execution_count": 0,
      "outputs": []
    },
    {
      "cell_type": "markdown",
      "metadata": {
        "id": "gEd4il8vz-2O",
        "colab_type": "text"
      },
      "source": [
        "## **Run training**"
      ]
    },
    {
      "cell_type": "code",
      "metadata": {
        "id": "5HWX3GTrfLzC",
        "colab_type": "code",
        "outputId": "702715e2-732d-4e4b-9681-dd2c51d760dd",
        "colab": {
          "base_uri": "https://localhost:8080/",
          "height": 1000
        }
      },
      "source": [
        "### editable parameters\n",
        "dropout_set = [0.1, 0.2, 0.3, 0.5]\n",
        "kernel_num_set = [64, 128, 256, 512]\n",
        "\n",
        "# set early stopping rule\n",
        "early_stop_callback = pl.callbacks.early_stopping.EarlyStopping(\n",
        "    monitor='val_loss',\n",
        "    min_delta=0.0,\n",
        "    patience=5,\n",
        "    verbose=1,\n",
        "    mode='min'\n",
        ")\n",
        "\n",
        "############# don't edit #############\n",
        "val_f1 = np.zeros(\n",
        "    (len(dropout_set), len(kernel_num_set))\n",
        ")\n",
        "test_f1 = np.zeros_like(val_f1)\n",
        "\n",
        "# run training\n",
        "for i,dropout in enumerate(dropout_set):\n",
        "  for j,kernel_num in enumerate(kernel_num_set):\n",
        "    # set parameters and instantiate net\n",
        "    cnn_parameters = {\n",
        "        'batch_size': 32,\n",
        "        'kernel_num': kernel_num,\n",
        "        'kernel_filters': (3,4,5),\n",
        "        'embed_dim': 100,\n",
        "        'learning_rate': 4e-3,\n",
        "        'dropout': dropout,\n",
        "        'num_classes': 6,\n",
        "        'datasets': datasets\n",
        "    }\n",
        "    cnn = CNN_classifier(**cnn_parameters)\n",
        "\n",
        "    # define trainer and run training\n",
        "    try:\n",
        "      del trainer\n",
        "    except:\n",
        "      pass\n",
        "    trainer = Trainer(\n",
        "      tpu_cores=8,\n",
        "      check_val_every_n_epochs=2,\n",
        "      early_stop_callback=early_stop_callback,\n",
        "      max_epochs=50,\n",
        "      progress_bar_refresh_rate=0\n",
        "    )\n",
        "    trainer.fit(cnn)\n",
        "    \n",
        "    # store f1-score on val and test set\n",
        "    val_f1[i,j] = f1_score(\n",
        "        y_dev.detach().numpy(), # y_true\n",
        "        cnn(X_dev).argmax(1).detach().numpy(), # y_pred\n",
        "        average='macro'\n",
        "    )\n",
        "    print(\n",
        "        f'Kernel num = {kernel_num}, Dropout = {dropout}: F1-macro = {val_f1[i,j]:.4f}'\n",
        "    )\n",
        "    test_f1[i,j] = f1_score(\n",
        "        y_test.detach().numpy(), # y_true\n",
        "        cnn(X_test).argmax(1).detach().numpy(), # y_pred\n",
        "        average='macro'\n",
        "    )\n",
        "\n",
        "# save the results\n",
        "np.save('val_f1.npy', val_f1) # the best classifier is selected based on val_score; all test score are generated for the purpose of simplicity of sampling later on\n",
        "np.save('test_f1.npy', test_f1)"
      ],
      "execution_count": 0,
      "outputs": [
        {
          "output_type": "stream",
          "text": [
            "GPU available: False, used: False\n",
            "No environment variable for node rank defined. Set as 0.\n",
            "\n",
            "  | Name              | Type       | Params\n",
            "---------------------------------------------\n",
            "0 | conv_layers       | ModuleDict | 76 K  \n",
            "1 | conv_layers.conv1 | Conv2d     | 19 K  \n",
            "2 | conv_layers.conv2 | Conv2d     | 25 K  \n",
            "3 | conv_layers.conv3 | Conv2d     | 32 K  \n",
            "4 | fc                | Linear     | 1 K   \n",
            "5 | dropout           | Dropout    | 0     \n",
            "/usr/local/lib/python3.6/dist-packages/pytorch_lightning/utilities/distributed.py:23: UserWarning: The dataloader, val dataloader 0, does not have many workers which may be a bottleneck. Consider increasing the value of the `num_workers` argument` in the `DataLoader` init to improve performance.\n",
            "  warnings.warn(*args, **kwargs)\n",
            "/usr/local/lib/python3.6/dist-packages/pytorch_lightning/utilities/distributed.py:23: UserWarning: The dataloader, train dataloader, does not have many workers which may be a bottleneck. Consider increasing the value of the `num_workers` argument` in the `DataLoader` init to improve performance.\n",
            "  warnings.warn(*args, **kwargs)\n"
          ],
          "name": "stderr"
        },
        {
          "output_type": "stream",
          "text": [
            "Epoch 1 - Validation loss = 1.7634\n",
            "Epoch 2 - Validation loss = 0.4010\n"
          ],
          "name": "stdout"
        },
        {
          "output_type": "stream",
          "text": [
            "/usr/local/lib/python3.6/dist-packages/pytorch_lightning/utilities/distributed.py:23: UserWarning: Did not find hyperparameters at model hparams. Saving checkpoint without hyperparameters.\n",
            "  warnings.warn(*args, **kwargs)\n"
          ],
          "name": "stderr"
        },
        {
          "output_type": "stream",
          "text": [
            "Epoch 3 - Validation loss = 0.3571\n",
            "Epoch 4 - Validation loss = 0.3397\n",
            "Epoch 5 - Validation loss = 0.3336\n",
            "Epoch 6 - Validation loss = 0.3385\n"
          ],
          "name": "stdout"
        },
        {
          "output_type": "stream",
          "text": [
            "Epoch 00006: early stopping\n",
            "GPU available: False, used: False\n",
            "No environment variable for node rank defined. Set as 0.\n",
            "\n",
            "  | Name              | Type       | Params\n",
            "---------------------------------------------\n",
            "0 | conv_layers       | ModuleDict | 153 K \n",
            "1 | conv_layers.conv1 | Conv2d     | 38 K  \n",
            "2 | conv_layers.conv2 | Conv2d     | 51 K  \n",
            "3 | conv_layers.conv3 | Conv2d     | 64 K  \n",
            "4 | fc                | Linear     | 2 K   \n",
            "5 | dropout           | Dropout    | 0     \n"
          ],
          "name": "stderr"
        },
        {
          "output_type": "stream",
          "text": [
            "Epoch 7 - Validation loss = 0.3408\n",
            "Kernel num = 64, Dropout = 0.1: F1-macro = 0.8449\n",
            "Epoch 1 - Validation loss = 1.7768\n",
            "Epoch 2 - Validation loss = 0.4076\n",
            "Epoch 3 - Validation loss = 0.3688\n",
            "Epoch 4 - Validation loss = 0.3438\n",
            "Epoch 5 - Validation loss = 0.3455\n"
          ],
          "name": "stdout"
        },
        {
          "output_type": "stream",
          "text": [
            "Epoch 00005: early stopping\n"
          ],
          "name": "stderr"
        },
        {
          "output_type": "stream",
          "text": [
            "Epoch 6 - Validation loss = 0.3718\n",
            "Kernel num = 128, Dropout = 0.1: F1-macro = 0.8350\n"
          ],
          "name": "stdout"
        },
        {
          "output_type": "stream",
          "text": [
            "GPU available: False, used: False\n",
            "No environment variable for node rank defined. Set as 0.\n",
            "\n",
            "  | Name              | Type       | Params\n",
            "---------------------------------------------\n",
            "0 | conv_layers       | ModuleDict | 307 K \n",
            "1 | conv_layers.conv1 | Conv2d     | 77 K  \n",
            "2 | conv_layers.conv2 | Conv2d     | 102 K \n",
            "3 | conv_layers.conv3 | Conv2d     | 128 K \n",
            "4 | fc                | Linear     | 4 K   \n",
            "5 | dropout           | Dropout    | 0     \n"
          ],
          "name": "stderr"
        },
        {
          "output_type": "stream",
          "text": [
            "Epoch 1 - Validation loss = 1.7949\n",
            "Epoch 2 - Validation loss = 0.4086\n",
            "Epoch 3 - Validation loss = 0.3632\n",
            "Epoch 4 - Validation loss = 0.3588\n",
            "Epoch 5 - Validation loss = 0.3595\n"
          ],
          "name": "stdout"
        },
        {
          "output_type": "stream",
          "text": [
            "Epoch 00005: early stopping\n"
          ],
          "name": "stderr"
        },
        {
          "output_type": "stream",
          "text": [
            "Epoch 6 - Validation loss = 0.3598\n",
            "Kernel num = 256, Dropout = 0.1: F1-macro = 0.8533\n"
          ],
          "name": "stdout"
        },
        {
          "output_type": "stream",
          "text": [
            "GPU available: False, used: False\n",
            "No environment variable for node rank defined. Set as 0.\n",
            "\n",
            "  | Name              | Type       | Params\n",
            "---------------------------------------------\n",
            "0 | conv_layers       | ModuleDict | 615 K \n",
            "1 | conv_layers.conv1 | Conv2d     | 154 K \n",
            "2 | conv_layers.conv2 | Conv2d     | 205 K \n",
            "3 | conv_layers.conv3 | Conv2d     | 256 K \n",
            "4 | fc                | Linear     | 9 K   \n",
            "5 | dropout           | Dropout    | 0     \n"
          ],
          "name": "stderr"
        },
        {
          "output_type": "stream",
          "text": [
            "Epoch 1 - Validation loss = 1.7791\n",
            "Epoch 2 - Validation loss = 0.3924\n",
            "Epoch 3 - Validation loss = 0.3690\n",
            "Epoch 4 - Validation loss = 0.3525\n",
            "Epoch 5 - Validation loss = 0.3583\n"
          ],
          "name": "stdout"
        },
        {
          "output_type": "stream",
          "text": [
            "Epoch 00005: early stopping\n"
          ],
          "name": "stderr"
        },
        {
          "output_type": "stream",
          "text": [
            "Epoch 6 - Validation loss = 0.3763\n",
            "Kernel num = 512, Dropout = 0.1: F1-macro = 0.8516\n"
          ],
          "name": "stdout"
        },
        {
          "output_type": "stream",
          "text": [
            "GPU available: False, used: False\n",
            "No environment variable for node rank defined. Set as 0.\n",
            "\n",
            "  | Name              | Type       | Params\n",
            "---------------------------------------------\n",
            "0 | conv_layers       | ModuleDict | 76 K  \n",
            "1 | conv_layers.conv1 | Conv2d     | 19 K  \n",
            "2 | conv_layers.conv2 | Conv2d     | 25 K  \n",
            "3 | conv_layers.conv3 | Conv2d     | 32 K  \n",
            "4 | fc                | Linear     | 1 K   \n",
            "5 | dropout           | Dropout    | 0     \n"
          ],
          "name": "stderr"
        },
        {
          "output_type": "stream",
          "text": [
            "Epoch 1 - Validation loss = 1.7827\n",
            "Epoch 2 - Validation loss = 0.4143\n",
            "Epoch 3 - Validation loss = 0.3710\n",
            "Epoch 4 - Validation loss = 0.3481\n",
            "Epoch 5 - Validation loss = 0.3387\n",
            "Epoch 6 - Validation loss = 0.3378\n",
            "Epoch 7 - Validation loss = 0.3301\n",
            "Epoch 8 - Validation loss = 0.3386\n"
          ],
          "name": "stdout"
        },
        {
          "output_type": "stream",
          "text": [
            "Epoch 00008: early stopping\n",
            "GPU available: False, used: False\n",
            "No environment variable for node rank defined. Set as 0.\n",
            "\n",
            "  | Name              | Type       | Params\n",
            "---------------------------------------------\n",
            "0 | conv_layers       | ModuleDict | 153 K \n",
            "1 | conv_layers.conv1 | Conv2d     | 38 K  \n",
            "2 | conv_layers.conv2 | Conv2d     | 51 K  \n",
            "3 | conv_layers.conv3 | Conv2d     | 64 K  \n",
            "4 | fc                | Linear     | 2 K   \n",
            "5 | dropout           | Dropout    | 0     \n"
          ],
          "name": "stderr"
        },
        {
          "output_type": "stream",
          "text": [
            "Epoch 9 - Validation loss = 0.3428\n",
            "Kernel num = 64, Dropout = 0.2: F1-macro = 0.8328\n",
            "Epoch 1 - Validation loss = 1.8070\n",
            "Epoch 2 - Validation loss = 0.4002\n",
            "Epoch 3 - Validation loss = 0.3577\n",
            "Epoch 4 - Validation loss = 0.3263\n",
            "Epoch 5 - Validation loss = 0.3115\n",
            "Epoch 6 - Validation loss = 0.3114\n",
            "Epoch 7 - Validation loss = 0.3399\n"
          ],
          "name": "stdout"
        },
        {
          "output_type": "stream",
          "text": [
            "Epoch 00007: early stopping\n"
          ],
          "name": "stderr"
        },
        {
          "output_type": "stream",
          "text": [
            "Epoch 8 - Validation loss = 0.3282\n",
            "Kernel num = 128, Dropout = 0.2: F1-macro = 0.8552\n"
          ],
          "name": "stdout"
        },
        {
          "output_type": "stream",
          "text": [
            "GPU available: False, used: False\n",
            "No environment variable for node rank defined. Set as 0.\n",
            "\n",
            "  | Name              | Type       | Params\n",
            "---------------------------------------------\n",
            "0 | conv_layers       | ModuleDict | 307 K \n",
            "1 | conv_layers.conv1 | Conv2d     | 77 K  \n",
            "2 | conv_layers.conv2 | Conv2d     | 102 K \n",
            "3 | conv_layers.conv3 | Conv2d     | 128 K \n",
            "4 | fc                | Linear     | 4 K   \n",
            "5 | dropout           | Dropout    | 0     \n"
          ],
          "name": "stderr"
        },
        {
          "output_type": "stream",
          "text": [
            "Epoch 1 - Validation loss = 1.7697\n",
            "Epoch 2 - Validation loss = 0.4027\n",
            "Epoch 3 - Validation loss = 0.3578\n",
            "Epoch 4 - Validation loss = 0.3305\n",
            "Epoch 5 - Validation loss = 0.3324\n"
          ],
          "name": "stdout"
        },
        {
          "output_type": "stream",
          "text": [
            "Epoch 00005: early stopping\n"
          ],
          "name": "stderr"
        },
        {
          "output_type": "stream",
          "text": [
            "Epoch 6 - Validation loss = 0.3372\n",
            "Kernel num = 256, Dropout = 0.2: F1-macro = 0.8463\n"
          ],
          "name": "stdout"
        },
        {
          "output_type": "stream",
          "text": [
            "GPU available: False, used: False\n",
            "No environment variable for node rank defined. Set as 0.\n",
            "\n",
            "  | Name              | Type       | Params\n",
            "---------------------------------------------\n",
            "0 | conv_layers       | ModuleDict | 615 K \n",
            "1 | conv_layers.conv1 | Conv2d     | 154 K \n",
            "2 | conv_layers.conv2 | Conv2d     | 205 K \n",
            "3 | conv_layers.conv3 | Conv2d     | 256 K \n",
            "4 | fc                | Linear     | 9 K   \n",
            "5 | dropout           | Dropout    | 0     \n"
          ],
          "name": "stderr"
        },
        {
          "output_type": "stream",
          "text": [
            "Epoch 1 - Validation loss = 1.7758\n",
            "Epoch 2 - Validation loss = 0.4039\n",
            "Epoch 3 - Validation loss = 0.3500\n",
            "Epoch 4 - Validation loss = 0.3350\n",
            "Epoch 5 - Validation loss = 0.3335\n",
            "Epoch 6 - Validation loss = 0.3572\n"
          ],
          "name": "stdout"
        },
        {
          "output_type": "stream",
          "text": [
            "Epoch 00006: early stopping\n"
          ],
          "name": "stderr"
        },
        {
          "output_type": "stream",
          "text": [
            "Epoch 7 - Validation loss = 0.3596\n",
            "Kernel num = 512, Dropout = 0.2: F1-macro = 0.8425\n"
          ],
          "name": "stdout"
        },
        {
          "output_type": "stream",
          "text": [
            "GPU available: False, used: False\n",
            "No environment variable for node rank defined. Set as 0.\n",
            "\n",
            "  | Name              | Type       | Params\n",
            "---------------------------------------------\n",
            "0 | conv_layers       | ModuleDict | 76 K  \n",
            "1 | conv_layers.conv1 | Conv2d     | 19 K  \n",
            "2 | conv_layers.conv2 | Conv2d     | 25 K  \n",
            "3 | conv_layers.conv3 | Conv2d     | 32 K  \n",
            "4 | fc                | Linear     | 1 K   \n",
            "5 | dropout           | Dropout    | 0     \n"
          ],
          "name": "stderr"
        },
        {
          "output_type": "stream",
          "text": [
            "Epoch 1 - Validation loss = 1.7806\n",
            "Epoch 2 - Validation loss = 0.4126\n",
            "Epoch 3 - Validation loss = 0.3697\n",
            "Epoch 4 - Validation loss = 0.3547\n",
            "Epoch 5 - Validation loss = 0.3357\n",
            "Epoch 6 - Validation loss = 0.3293\n",
            "Epoch 7 - Validation loss = 0.3289\n",
            "Epoch 8 - Validation loss = 0.3229\n",
            "Epoch 9 - Validation loss = 0.3234\n",
            "Epoch 10 - Validation loss = 0.3199\n",
            "Epoch 11 - Validation loss = 0.3274\n",
            "Epoch 12 - Validation loss = 0.3145\n",
            "Epoch 13 - Validation loss = 0.3169\n"
          ],
          "name": "stdout"
        },
        {
          "output_type": "stream",
          "text": [
            "Epoch 00013: early stopping\n",
            "GPU available: False, used: False\n",
            "No environment variable for node rank defined. Set as 0.\n",
            "\n",
            "  | Name              | Type       | Params\n",
            "---------------------------------------------\n",
            "0 | conv_layers       | ModuleDict | 153 K \n",
            "1 | conv_layers.conv1 | Conv2d     | 38 K  \n",
            "2 | conv_layers.conv2 | Conv2d     | 51 K  \n",
            "3 | conv_layers.conv3 | Conv2d     | 64 K  \n",
            "4 | fc                | Linear     | 2 K   \n",
            "5 | dropout           | Dropout    | 0     \n"
          ],
          "name": "stderr"
        },
        {
          "output_type": "stream",
          "text": [
            "Epoch 14 - Validation loss = 0.3256\n",
            "Kernel num = 64, Dropout = 0.3: F1-macro = 0.8490\n",
            "Epoch 1 - Validation loss = 1.7617\n",
            "Epoch 2 - Validation loss = 0.4162\n",
            "Epoch 3 - Validation loss = 0.3702\n",
            "Epoch 4 - Validation loss = 0.3453\n",
            "Epoch 5 - Validation loss = 0.3300\n",
            "Epoch 6 - Validation loss = 0.3256\n",
            "Epoch 7 - Validation loss = 0.3224\n",
            "Epoch 8 - Validation loss = 0.3275\n"
          ],
          "name": "stdout"
        },
        {
          "output_type": "stream",
          "text": [
            "Epoch 00008: early stopping\n"
          ],
          "name": "stderr"
        },
        {
          "output_type": "stream",
          "text": [
            "Epoch 9 - Validation loss = 0.3396\n",
            "Kernel num = 128, Dropout = 0.3: F1-macro = 0.8396\n"
          ],
          "name": "stdout"
        },
        {
          "output_type": "stream",
          "text": [
            "GPU available: False, used: False\n",
            "No environment variable for node rank defined. Set as 0.\n",
            "\n",
            "  | Name              | Type       | Params\n",
            "---------------------------------------------\n",
            "0 | conv_layers       | ModuleDict | 307 K \n",
            "1 | conv_layers.conv1 | Conv2d     | 77 K  \n",
            "2 | conv_layers.conv2 | Conv2d     | 102 K \n",
            "3 | conv_layers.conv3 | Conv2d     | 128 K \n",
            "4 | fc                | Linear     | 4 K   \n",
            "5 | dropout           | Dropout    | 0     \n"
          ],
          "name": "stderr"
        },
        {
          "output_type": "stream",
          "text": [
            "Epoch 1 - Validation loss = 1.7971\n",
            "Epoch 2 - Validation loss = 0.4093\n",
            "Epoch 3 - Validation loss = 0.3726\n",
            "Epoch 4 - Validation loss = 0.3372\n",
            "Epoch 5 - Validation loss = 0.3166\n",
            "Epoch 6 - Validation loss = 0.3407\n"
          ],
          "name": "stdout"
        },
        {
          "output_type": "stream",
          "text": [
            "Epoch 00006: early stopping\n"
          ],
          "name": "stderr"
        },
        {
          "output_type": "stream",
          "text": [
            "Epoch 7 - Validation loss = 0.3320\n",
            "Kernel num = 256, Dropout = 0.3: F1-macro = 0.8469\n"
          ],
          "name": "stdout"
        },
        {
          "output_type": "stream",
          "text": [
            "GPU available: False, used: False\n",
            "No environment variable for node rank defined. Set as 0.\n",
            "\n",
            "  | Name              | Type       | Params\n",
            "---------------------------------------------\n",
            "0 | conv_layers       | ModuleDict | 615 K \n",
            "1 | conv_layers.conv1 | Conv2d     | 154 K \n",
            "2 | conv_layers.conv2 | Conv2d     | 205 K \n",
            "3 | conv_layers.conv3 | Conv2d     | 256 K \n",
            "4 | fc                | Linear     | 9 K   \n",
            "5 | dropout           | Dropout    | 0     \n"
          ],
          "name": "stderr"
        },
        {
          "output_type": "stream",
          "text": [
            "Epoch 1 - Validation loss = 1.8314\n",
            "Epoch 2 - Validation loss = 0.4052\n",
            "Epoch 3 - Validation loss = 0.3652\n",
            "Epoch 4 - Validation loss = 0.3391\n",
            "Epoch 5 - Validation loss = 0.3311\n",
            "Epoch 6 - Validation loss = 0.3286\n",
            "Epoch 7 - Validation loss = 0.3469\n"
          ],
          "name": "stdout"
        },
        {
          "output_type": "stream",
          "text": [
            "Epoch 00007: early stopping\n"
          ],
          "name": "stderr"
        },
        {
          "output_type": "stream",
          "text": [
            "Epoch 8 - Validation loss = 0.3334\n",
            "Kernel num = 512, Dropout = 0.3: F1-macro = 0.8580\n"
          ],
          "name": "stdout"
        },
        {
          "output_type": "stream",
          "text": [
            "GPU available: False, used: False\n",
            "No environment variable for node rank defined. Set as 0.\n",
            "\n",
            "  | Name              | Type       | Params\n",
            "---------------------------------------------\n",
            "0 | conv_layers       | ModuleDict | 76 K  \n",
            "1 | conv_layers.conv1 | Conv2d     | 19 K  \n",
            "2 | conv_layers.conv2 | Conv2d     | 25 K  \n",
            "3 | conv_layers.conv3 | Conv2d     | 32 K  \n",
            "4 | fc                | Linear     | 1 K   \n",
            "5 | dropout           | Dropout    | 0     \n"
          ],
          "name": "stderr"
        },
        {
          "output_type": "stream",
          "text": [
            "Epoch 1 - Validation loss = 1.7988\n",
            "Epoch 2 - Validation loss = 0.4496\n",
            "Epoch 3 - Validation loss = 0.4002\n",
            "Epoch 4 - Validation loss = 0.3697\n",
            "Epoch 5 - Validation loss = 0.3516\n",
            "Epoch 6 - Validation loss = 0.3410\n",
            "Epoch 7 - Validation loss = 0.3325\n",
            "Epoch 8 - Validation loss = 0.3216\n",
            "Epoch 9 - Validation loss = 0.3231\n",
            "Epoch 10 - Validation loss = 0.3184\n",
            "Epoch 11 - Validation loss = 0.3079\n",
            "Epoch 12 - Validation loss = 0.3093\n",
            "Epoch 13 - Validation loss = 0.3066\n",
            "Epoch 14 - Validation loss = 0.3065\n",
            "Epoch 15 - Validation loss = 0.3085\n"
          ],
          "name": "stdout"
        },
        {
          "output_type": "stream",
          "text": [
            "Epoch 00015: early stopping\n",
            "GPU available: False, used: False\n",
            "No environment variable for node rank defined. Set as 0.\n",
            "\n",
            "  | Name              | Type       | Params\n",
            "---------------------------------------------\n",
            "0 | conv_layers       | ModuleDict | 153 K \n",
            "1 | conv_layers.conv1 | Conv2d     | 38 K  \n",
            "2 | conv_layers.conv2 | Conv2d     | 51 K  \n",
            "3 | conv_layers.conv3 | Conv2d     | 64 K  \n",
            "4 | fc                | Linear     | 2 K   \n",
            "5 | dropout           | Dropout    | 0     \n"
          ],
          "name": "stderr"
        },
        {
          "output_type": "stream",
          "text": [
            "Epoch 16 - Validation loss = 0.3109\n",
            "Kernel num = 64, Dropout = 0.5: F1-macro = 0.8346\n",
            "Epoch 1 - Validation loss = 1.8047\n",
            "Epoch 2 - Validation loss = 0.4270\n",
            "Epoch 3 - Validation loss = 0.3764\n",
            "Epoch 4 - Validation loss = 0.3683\n",
            "Epoch 5 - Validation loss = 0.3516\n",
            "Epoch 6 - Validation loss = 0.3298\n",
            "Epoch 7 - Validation loss = 0.3149\n",
            "Epoch 8 - Validation loss = 0.3205\n"
          ],
          "name": "stdout"
        },
        {
          "output_type": "stream",
          "text": [
            "Epoch 00008: early stopping\n"
          ],
          "name": "stderr"
        },
        {
          "output_type": "stream",
          "text": [
            "Epoch 9 - Validation loss = 0.3177\n",
            "Kernel num = 128, Dropout = 0.5: F1-macro = 0.8429\n"
          ],
          "name": "stdout"
        },
        {
          "output_type": "stream",
          "text": [
            "GPU available: False, used: False\n",
            "No environment variable for node rank defined. Set as 0.\n",
            "\n",
            "  | Name              | Type       | Params\n",
            "---------------------------------------------\n",
            "0 | conv_layers       | ModuleDict | 307 K \n",
            "1 | conv_layers.conv1 | Conv2d     | 77 K  \n",
            "2 | conv_layers.conv2 | Conv2d     | 102 K \n",
            "3 | conv_layers.conv3 | Conv2d     | 128 K \n",
            "4 | fc                | Linear     | 4 K   \n",
            "5 | dropout           | Dropout    | 0     \n"
          ],
          "name": "stderr"
        },
        {
          "output_type": "stream",
          "text": [
            "Epoch 1 - Validation loss = 1.7988\n",
            "Epoch 2 - Validation loss = 0.4211\n",
            "Epoch 3 - Validation loss = 0.3706\n",
            "Epoch 4 - Validation loss = 0.3612\n",
            "Epoch 5 - Validation loss = 0.3400\n",
            "Epoch 6 - Validation loss = 0.3396\n",
            "Epoch 7 - Validation loss = 0.3279\n",
            "Epoch 8 - Validation loss = 0.3205\n",
            "Epoch 9 - Validation loss = 0.3153\n",
            "Epoch 10 - Validation loss = 0.3126\n",
            "Epoch 11 - Validation loss = 0.3337\n"
          ],
          "name": "stdout"
        },
        {
          "output_type": "stream",
          "text": [
            "Epoch 00011: early stopping\n"
          ],
          "name": "stderr"
        },
        {
          "output_type": "stream",
          "text": [
            "Epoch 12 - Validation loss = 0.3306\n",
            "Kernel num = 256, Dropout = 0.5: F1-macro = 0.8388\n"
          ],
          "name": "stdout"
        },
        {
          "output_type": "stream",
          "text": [
            "GPU available: False, used: False\n",
            "No environment variable for node rank defined. Set as 0.\n",
            "\n",
            "  | Name              | Type       | Params\n",
            "---------------------------------------------\n",
            "0 | conv_layers       | ModuleDict | 615 K \n",
            "1 | conv_layers.conv1 | Conv2d     | 154 K \n",
            "2 | conv_layers.conv2 | Conv2d     | 205 K \n",
            "3 | conv_layers.conv3 | Conv2d     | 256 K \n",
            "4 | fc                | Linear     | 9 K   \n",
            "5 | dropout           | Dropout    | 0     \n"
          ],
          "name": "stderr"
        },
        {
          "output_type": "stream",
          "text": [
            "Epoch 1 - Validation loss = 1.8034\n",
            "Epoch 2 - Validation loss = 0.4179\n",
            "Epoch 3 - Validation loss = 0.3699\n",
            "Epoch 4 - Validation loss = 0.3519\n",
            "Epoch 5 - Validation loss = 0.3389\n",
            "Epoch 6 - Validation loss = 0.3238\n",
            "Epoch 7 - Validation loss = 0.3371\n",
            "Epoch 8 - Validation loss = 0.3108\n",
            "Epoch 9 - Validation loss = 0.3260\n"
          ],
          "name": "stdout"
        },
        {
          "output_type": "stream",
          "text": [
            "Epoch 00009: early stopping\n"
          ],
          "name": "stderr"
        },
        {
          "output_type": "stream",
          "text": [
            "Epoch 10 - Validation loss = 0.3257\n",
            "Kernel num = 512, Dropout = 0.5: F1-macro = 0.8236\n"
          ],
          "name": "stdout"
        }
      ]
    }
  ]
}